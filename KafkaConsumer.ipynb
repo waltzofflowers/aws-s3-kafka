{
 "cells": [
  {
   "cell_type": "code",
   "execution_count": null,
   "metadata": {},
   "outputs": [],
   "source": [
    "%pip install s3fs"
   ]
  },
  {
   "cell_type": "code",
   "execution_count": 11,
   "metadata": {},
   "outputs": [],
   "source": [
    "import os\n",
    "import json\n",
    "import time\n",
    "import csv\n",
    "from kafka import KafkaConsumer\n",
    "#from minio import Minio\n",
    "from s3fs import S3FileSystem\n",
    "\n",
    "bucket_name = 'kafka-data-bucket-try'"
   ]
  },
  {
   "cell_type": "code",
   "execution_count": 12,
   "metadata": {},
   "outputs": [],
   "source": [
    "# Create a Kafka consumer\n",
    "consumer = KafkaConsumer(\n",
    "    'NewTopic',  # Replace with the actual topic name\n",
    "    bootstrap_servers=['localhost:9092'],  # Same as the producer\n",
    "    group_id='your_consumer_group',  # Consumer group ID (optional)\n",
    "    auto_offset_reset='earliest',\n",
    "    value_deserializer=lambda m: json.loads(m.decode('utf-8'))\n",
    ")"
   ]
  },
  {
   "cell_type": "code",
   "execution_count": null,
   "metadata": {},
   "outputs": [],
   "source": [
    "for c in consumer:\n",
    "   print(c.value)"
   ]
  },
  {
   "cell_type": "code",
   "execution_count": null,
   "metadata": {},
   "outputs": [],
   "source": [
    "# for c in consumer:\n",
    "#     index = c.value[2:]['Index']\n",
    "#     print(index)"
   ]
  },
  {
   "cell_type": "code",
   "execution_count": 14,
   "metadata": {},
   "outputs": [],
   "source": [
    "s3 = S3FileSystem(anon=False, client_kwargs={'region_name': 'us-east-1'})"
   ]
  },
  {
   "cell_type": "code",
   "execution_count": 17,
   "metadata": {},
   "outputs": [
    {
     "name": "stdout",
     "output_type": "stream",
     "text": [
      "Data saved to kafka-data-bucket-try/kafka_data_148.json\n",
      "Data saved to kafka-data-bucket-try/kafka_data_149.json\n",
      "Data saved to kafka-data-bucket-try/kafka_data_150.json\n",
      "Data saved to kafka-data-bucket-try/kafka_data_151.json\n",
      "Data saved to kafka-data-bucket-try/kafka_data_152.json\n",
      "Data saved to kafka-data-bucket-try/kafka_data_1.json\n",
      "Data saved to kafka-data-bucket-try/kafka_data_2.json\n",
      "Data saved to kafka-data-bucket-try/kafka_data_3.json\n",
      "Data saved to kafka-data-bucket-try/kafka_data_4.json\n",
      "Data saved to kafka-data-bucket-try/kafka_data_5.json\n",
      "Data saved to kafka-data-bucket-try/kafka_data_6.json\n",
      "Data saved to kafka-data-bucket-try/kafka_data_7.json\n",
      "Data saved to kafka-data-bucket-try/kafka_data_8.json\n",
      "Data saved to kafka-data-bucket-try/kafka_data_9.json\n",
      "Data saved to kafka-data-bucket-try/kafka_data_10.json\n",
      "Data saved to kafka-data-bucket-try/kafka_data_11.json\n",
      "Data saved to kafka-data-bucket-try/kafka_data_12.json\n",
      "Data saved to kafka-data-bucket-try/kafka_data_13.json\n",
      "Data saved to kafka-data-bucket-try/kafka_data_14.json\n",
      "Data saved to kafka-data-bucket-try/kafka_data_15.json\n",
      "Data saved to kafka-data-bucket-try/kafka_data_16.json\n",
      "Data saved to kafka-data-bucket-try/kafka_data_17.json\n",
      "Data saved to kafka-data-bucket-try/kafka_data_18.json\n",
      "Data saved to kafka-data-bucket-try/kafka_data_19.json\n",
      "Data saved to kafka-data-bucket-try/kafka_data_20.json\n",
      "Data saved to kafka-data-bucket-try/kafka_data_21.json\n",
      "Data saved to kafka-data-bucket-try/kafka_data_22.json\n",
      "Data saved to kafka-data-bucket-try/kafka_data_23.json\n",
      "Data saved to kafka-data-bucket-try/kafka_data_24.json\n",
      "Data saved to kafka-data-bucket-try/kafka_data_25.json\n",
      "Data saved to kafka-data-bucket-try/kafka_data_26.json\n",
      "Data saved to kafka-data-bucket-try/kafka_data_27.json\n",
      "Data saved to kafka-data-bucket-try/kafka_data_28.json\n",
      "Data saved to kafka-data-bucket-try/kafka_data_29.json\n",
      "Data saved to kafka-data-bucket-try/kafka_data_30.json\n",
      "Data saved to kafka-data-bucket-try/kafka_data_31.json\n",
      "Data saved to kafka-data-bucket-try/kafka_data_32.json\n",
      "Data saved to kafka-data-bucket-try/kafka_data_33.json\n",
      "Data saved to kafka-data-bucket-try/kafka_data_34.json\n",
      "Data saved to kafka-data-bucket-try/kafka_data_35.json\n",
      "Data saved to kafka-data-bucket-try/kafka_data_36.json\n",
      "Data saved to kafka-data-bucket-try/kafka_data_37.json\n",
      "Data saved to kafka-data-bucket-try/kafka_data_38.json\n",
      "Data saved to kafka-data-bucket-try/kafka_data_39.json\n",
      "Data saved to kafka-data-bucket-try/kafka_data_40.json\n",
      "Data saved to kafka-data-bucket-try/kafka_data_41.json\n",
      "Data saved to kafka-data-bucket-try/kafka_data_42.json\n",
      "Data saved to kafka-data-bucket-try/kafka_data_43.json\n",
      "Data saved to kafka-data-bucket-try/kafka_data_44.json\n",
      "Data saved to kafka-data-bucket-try/kafka_data_45.json\n",
      "Data saved to kafka-data-bucket-try/kafka_data_46.json\n",
      "Data saved to kafka-data-bucket-try/kafka_data_47.json\n",
      "Data saved to kafka-data-bucket-try/kafka_data_48.json\n",
      "Data saved to kafka-data-bucket-try/kafka_data_49.json\n",
      "Data saved to kafka-data-bucket-try/kafka_data_50.json\n",
      "Data saved to kafka-data-bucket-try/kafka_data_51.json\n",
      "Data saved to kafka-data-bucket-try/kafka_data_52.json\n",
      "Data saved to kafka-data-bucket-try/kafka_data_53.json\n",
      "Data saved to kafka-data-bucket-try/kafka_data_54.json\n",
      "Data saved to kafka-data-bucket-try/kafka_data_55.json\n",
      "Data saved to kafka-data-bucket-try/kafka_data_56.json\n",
      "Data saved to kafka-data-bucket-try/kafka_data_57.json\n",
      "Data saved to kafka-data-bucket-try/kafka_data_58.json\n",
      "Data saved to kafka-data-bucket-try/kafka_data_59.json\n",
      "Data saved to kafka-data-bucket-try/kafka_data_60.json\n",
      "Data saved to kafka-data-bucket-try/kafka_data_61.json\n",
      "Data saved to kafka-data-bucket-try/kafka_data_62.json\n",
      "Data saved to kafka-data-bucket-try/kafka_data_63.json\n",
      "Data saved to kafka-data-bucket-try/kafka_data_64.json\n",
      "Data saved to kafka-data-bucket-try/kafka_data_65.json\n",
      "Data saved to kafka-data-bucket-try/kafka_data_66.json\n",
      "Data saved to kafka-data-bucket-try/kafka_data_67.json\n",
      "Data saved to kafka-data-bucket-try/kafka_data_68.json\n",
      "Data saved to kafka-data-bucket-try/kafka_data_69.json\n",
      "Data saved to kafka-data-bucket-try/kafka_data_70.json\n",
      "Data saved to kafka-data-bucket-try/kafka_data_71.json\n",
      "Data saved to kafka-data-bucket-try/kafka_data_72.json\n",
      "Data saved to kafka-data-bucket-try/kafka_data_73.json\n",
      "Data saved to kafka-data-bucket-try/kafka_data_74.json\n",
      "Data saved to kafka-data-bucket-try/kafka_data_75.json\n",
      "Data saved to kafka-data-bucket-try/kafka_data_4221.json\n",
      "Data saved to kafka-data-bucket-try/kafka_data_76.json\n",
      "Data saved to kafka-data-bucket-try/kafka_data_77.json\n",
      "Data saved to kafka-data-bucket-try/kafka_data_78.json\n",
      "Data saved to kafka-data-bucket-try/kafka_data_79.json\n",
      "Data saved to kafka-data-bucket-try/kafka_data_80.json\n",
      "Data saved to kafka-data-bucket-try/kafka_data_81.json\n",
      "Data saved to kafka-data-bucket-try/kafka_data_82.json\n",
      "Data saved to kafka-data-bucket-try/kafka_data_83.json\n",
      "Data saved to kafka-data-bucket-try/kafka_data_84.json\n",
      "Data saved to kafka-data-bucket-try/kafka_data_85.json\n",
      "Data saved to kafka-data-bucket-try/kafka_data_86.json\n",
      "Data saved to kafka-data-bucket-try/kafka_data_87.json\n",
      "Data saved to kafka-data-bucket-try/kafka_data_88.json\n",
      "Data saved to kafka-data-bucket-try/kafka_data_89.json\n",
      "Data saved to kafka-data-bucket-try/kafka_data_90.json\n"
     ]
    },
    {
     "ename": "KeyboardInterrupt",
     "evalue": "",
     "output_type": "error",
     "traceback": [
      "\u001b[1;31m---------------------------------------------------------------------------\u001b[0m",
      "\u001b[1;31mKeyboardInterrupt\u001b[0m                         Traceback (most recent call last)",
      "Cell \u001b[1;32mIn[17], line 6\u001b[0m\n\u001b[0;32m      2\u001b[0m index \u001b[38;5;241m=\u001b[39m c\u001b[38;5;241m.\u001b[39mvalue\u001b[38;5;241m.\u001b[39mget(\u001b[38;5;124m'\u001b[39m\u001b[38;5;124mIndex\u001b[39m\u001b[38;5;124m'\u001b[39m)\n\u001b[0;32m      4\u001b[0m s3_path \u001b[38;5;241m=\u001b[39m \u001b[38;5;124mf\u001b[39m\u001b[38;5;124m\"\u001b[39m\u001b[38;5;132;01m{\u001b[39;00mbucket_name\u001b[38;5;132;01m}\u001b[39;00m\u001b[38;5;124m/kafka_data_\u001b[39m\u001b[38;5;132;01m{\u001b[39;00mindex\u001b[38;5;132;01m}\u001b[39;00m\u001b[38;5;124m.json\u001b[39m\u001b[38;5;124m\"\u001b[39m\n\u001b[1;32m----> 6\u001b[0m \u001b[43m\u001b[49m\u001b[38;5;28;43;01mwith\u001b[39;49;00m\u001b[43m \u001b[49m\u001b[43ms3\u001b[49m\u001b[38;5;241;43m.\u001b[39;49m\u001b[43mopen\u001b[49m\u001b[43m(\u001b[49m\u001b[43ms3_path\u001b[49m\u001b[43m,\u001b[49m\u001b[43m \u001b[49m\u001b[38;5;124;43m'\u001b[39;49m\u001b[38;5;124;43mw\u001b[39;49m\u001b[38;5;124;43m'\u001b[39;49m\u001b[43m)\u001b[49m\u001b[43m \u001b[49m\u001b[38;5;28;43;01mas\u001b[39;49;00m\u001b[43m \u001b[49m\u001b[43mf\u001b[49m\u001b[43m:\u001b[49m\n\u001b[0;32m      7\u001b[0m \u001b[43m    \u001b[49m\u001b[43mjson\u001b[49m\u001b[38;5;241;43m.\u001b[39;49m\u001b[43mdump\u001b[49m\u001b[43m(\u001b[49m\u001b[43mc\u001b[49m\u001b[38;5;241;43m.\u001b[39;49m\u001b[43mvalue\u001b[49m\u001b[43m,\u001b[49m\u001b[43m \u001b[49m\u001b[43mf\u001b[49m\u001b[43m)\u001b[49m\n\u001b[0;32m      9\u001b[0m \u001b[38;5;28mprint\u001b[39m(\u001b[38;5;124mf\u001b[39m\u001b[38;5;124m\"\u001b[39m\u001b[38;5;124mData saved to \u001b[39m\u001b[38;5;132;01m{\u001b[39;00ms3_path\u001b[38;5;132;01m}\u001b[39;00m\u001b[38;5;124m\"\u001b[39m)\n",
      "File \u001b[1;32mc:\\Users\\cihat\\AppData\\Local\\Programs\\Python\\Python311\\Lib\\site-packages\\fsspec\\spec.py:2033\u001b[0m, in \u001b[0;36mAbstractBufferedFile.close\u001b[1;34m(self)\u001b[0m\n\u001b[0;32m   2031\u001b[0m \u001b[38;5;28;01melse\u001b[39;00m:\n\u001b[0;32m   2032\u001b[0m     \u001b[38;5;28;01mif\u001b[39;00m \u001b[38;5;129;01mnot\u001b[39;00m \u001b[38;5;28mself\u001b[39m\u001b[38;5;241m.\u001b[39mforced:\n\u001b[1;32m-> 2033\u001b[0m         \u001b[38;5;28;43mself\u001b[39;49m\u001b[38;5;241;43m.\u001b[39;49m\u001b[43mflush\u001b[49m\u001b[43m(\u001b[49m\u001b[43mforce\u001b[49m\u001b[38;5;241;43m=\u001b[39;49m\u001b[38;5;28;43;01mTrue\u001b[39;49;00m\u001b[43m)\u001b[49m\n\u001b[0;32m   2035\u001b[0m     \u001b[38;5;28;01mif\u001b[39;00m \u001b[38;5;28mself\u001b[39m\u001b[38;5;241m.\u001b[39mfs \u001b[38;5;129;01mis\u001b[39;00m \u001b[38;5;129;01mnot\u001b[39;00m \u001b[38;5;28;01mNone\u001b[39;00m:\n\u001b[0;32m   2036\u001b[0m         \u001b[38;5;28mself\u001b[39m\u001b[38;5;241m.\u001b[39mfs\u001b[38;5;241m.\u001b[39minvalidate_cache(\u001b[38;5;28mself\u001b[39m\u001b[38;5;241m.\u001b[39mpath)\n",
      "File \u001b[1;32mc:\\Users\\cihat\\AppData\\Local\\Programs\\Python\\Python311\\Lib\\site-packages\\fsspec\\spec.py:1897\u001b[0m, in \u001b[0;36mAbstractBufferedFile.flush\u001b[1;34m(self, force)\u001b[0m\n\u001b[0;32m   1894\u001b[0m         \u001b[38;5;28mself\u001b[39m\u001b[38;5;241m.\u001b[39mclosed \u001b[38;5;241m=\u001b[39m \u001b[38;5;28;01mTrue\u001b[39;00m\n\u001b[0;32m   1895\u001b[0m         \u001b[38;5;28;01mraise\u001b[39;00m\n\u001b[1;32m-> 1897\u001b[0m \u001b[38;5;28;01mif\u001b[39;00m \u001b[38;5;28;43mself\u001b[39;49m\u001b[38;5;241;43m.\u001b[39;49m\u001b[43m_upload_chunk\u001b[49m\u001b[43m(\u001b[49m\u001b[43mfinal\u001b[49m\u001b[38;5;241;43m=\u001b[39;49m\u001b[43mforce\u001b[49m\u001b[43m)\u001b[49m \u001b[38;5;129;01mis\u001b[39;00m \u001b[38;5;129;01mnot\u001b[39;00m \u001b[38;5;28;01mFalse\u001b[39;00m:\n\u001b[0;32m   1898\u001b[0m     \u001b[38;5;28mself\u001b[39m\u001b[38;5;241m.\u001b[39moffset \u001b[38;5;241m+\u001b[39m\u001b[38;5;241m=\u001b[39m \u001b[38;5;28mself\u001b[39m\u001b[38;5;241m.\u001b[39mbuffer\u001b[38;5;241m.\u001b[39mseek(\u001b[38;5;241m0\u001b[39m, \u001b[38;5;241m2\u001b[39m)\n\u001b[0;32m   1899\u001b[0m     \u001b[38;5;28mself\u001b[39m\u001b[38;5;241m.\u001b[39mbuffer \u001b[38;5;241m=\u001b[39m io\u001b[38;5;241m.\u001b[39mBytesIO()\n",
      "File \u001b[1;32mc:\\Users\\cihat\\AppData\\Local\\Programs\\Python\\Python311\\Lib\\site-packages\\s3fs\\core.py:2387\u001b[0m, in \u001b[0;36mS3File._upload_chunk\u001b[1;34m(self, final)\u001b[0m\n\u001b[0;32m   2384\u001b[0m             upload_part(\u001b[38;5;28mself\u001b[39m\u001b[38;5;241m.\u001b[39mbuffer\u001b[38;5;241m.\u001b[39mread(\u001b[38;5;28mself\u001b[39m\u001b[38;5;241m.\u001b[39mpart_max))\n\u001b[0;32m   2386\u001b[0m \u001b[38;5;28;01mif\u001b[39;00m \u001b[38;5;28mself\u001b[39m\u001b[38;5;241m.\u001b[39mautocommit \u001b[38;5;129;01mand\u001b[39;00m final:\n\u001b[1;32m-> 2387\u001b[0m     \u001b[38;5;28;43mself\u001b[39;49m\u001b[38;5;241;43m.\u001b[39;49m\u001b[43mcommit\u001b[49m\u001b[43m(\u001b[49m\u001b[43m)\u001b[49m\n\u001b[0;32m   2388\u001b[0m \u001b[38;5;28;01melse\u001b[39;00m:\n\u001b[0;32m   2389\u001b[0m     \u001b[38;5;66;03m# update 'upload offset'\u001b[39;00m\n\u001b[0;32m   2390\u001b[0m     \u001b[38;5;28mself\u001b[39m\u001b[38;5;241m.\u001b[39moffset \u001b[38;5;241m+\u001b[39m\u001b[38;5;241m=\u001b[39m \u001b[38;5;28mself\u001b[39m\u001b[38;5;241m.\u001b[39mbuffer\u001b[38;5;241m.\u001b[39mtell()\n",
      "File \u001b[1;32mc:\\Users\\cihat\\AppData\\Local\\Programs\\Python\\Python311\\Lib\\site-packages\\s3fs\\core.py:2412\u001b[0m, in \u001b[0;36mS3File.commit\u001b[1;34m(self)\u001b[0m\n\u001b[0;32m   2410\u001b[0m     \u001b[38;5;28;01mif\u001b[39;00m \u001b[38;5;28mself\u001b[39m\u001b[38;5;241m.\u001b[39macl:\n\u001b[0;32m   2411\u001b[0m         kw[\u001b[38;5;124m\"\u001b[39m\u001b[38;5;124mACL\u001b[39m\u001b[38;5;124m\"\u001b[39m] \u001b[38;5;241m=\u001b[39m \u001b[38;5;28mself\u001b[39m\u001b[38;5;241m.\u001b[39macl\n\u001b[1;32m-> 2412\u001b[0m     write_result \u001b[38;5;241m=\u001b[39m \u001b[38;5;28;43mself\u001b[39;49m\u001b[38;5;241;43m.\u001b[39;49m\u001b[43m_call_s3\u001b[49m\u001b[43m(\u001b[49m\u001b[38;5;124;43m\"\u001b[39;49m\u001b[38;5;124;43mput_object\u001b[39;49m\u001b[38;5;124;43m\"\u001b[39;49m\u001b[43m,\u001b[49m\u001b[43m \u001b[49m\u001b[38;5;241;43m*\u001b[39;49m\u001b[38;5;241;43m*\u001b[39;49m\u001b[43mkw\u001b[49m\u001b[43m)\u001b[49m\n\u001b[0;32m   2413\u001b[0m \u001b[38;5;28;01melse\u001b[39;00m:\n\u001b[0;32m   2414\u001b[0m     \u001b[38;5;28;01mraise\u001b[39;00m \u001b[38;5;167;01mRuntimeError\u001b[39;00m\n",
      "File \u001b[1;32mc:\\Users\\cihat\\AppData\\Local\\Programs\\Python\\Python311\\Lib\\site-packages\\s3fs\\core.py:2249\u001b[0m, in \u001b[0;36mS3File._call_s3\u001b[1;34m(self, method, *kwarglist, **kwargs)\u001b[0m\n\u001b[0;32m   2248\u001b[0m \u001b[38;5;28;01mdef\u001b[39;00m \u001b[38;5;21m_call_s3\u001b[39m(\u001b[38;5;28mself\u001b[39m, method, \u001b[38;5;241m*\u001b[39mkwarglist, \u001b[38;5;241m*\u001b[39m\u001b[38;5;241m*\u001b[39mkwargs):\n\u001b[1;32m-> 2249\u001b[0m     \u001b[38;5;28;01mreturn\u001b[39;00m \u001b[38;5;28;43mself\u001b[39;49m\u001b[38;5;241;43m.\u001b[39;49m\u001b[43mfs\u001b[49m\u001b[38;5;241;43m.\u001b[39;49m\u001b[43mcall_s3\u001b[49m\u001b[43m(\u001b[49m\u001b[43mmethod\u001b[49m\u001b[43m,\u001b[49m\u001b[43m \u001b[49m\u001b[38;5;28;43mself\u001b[39;49m\u001b[38;5;241;43m.\u001b[39;49m\u001b[43ms3_additional_kwargs\u001b[49m\u001b[43m,\u001b[49m\u001b[43m \u001b[49m\u001b[38;5;241;43m*\u001b[39;49m\u001b[43mkwarglist\u001b[49m\u001b[43m,\u001b[49m\u001b[43m \u001b[49m\u001b[38;5;241;43m*\u001b[39;49m\u001b[38;5;241;43m*\u001b[39;49m\u001b[43mkwargs\u001b[49m\u001b[43m)\u001b[49m\n",
      "File \u001b[1;32mc:\\Users\\cihat\\AppData\\Local\\Programs\\Python\\Python311\\Lib\\site-packages\\fsspec\\asyn.py:118\u001b[0m, in \u001b[0;36msync_wrapper.<locals>.wrapper\u001b[1;34m(*args, **kwargs)\u001b[0m\n\u001b[0;32m    115\u001b[0m \u001b[38;5;129m@functools\u001b[39m\u001b[38;5;241m.\u001b[39mwraps(func)\n\u001b[0;32m    116\u001b[0m \u001b[38;5;28;01mdef\u001b[39;00m \u001b[38;5;21mwrapper\u001b[39m(\u001b[38;5;241m*\u001b[39margs, \u001b[38;5;241m*\u001b[39m\u001b[38;5;241m*\u001b[39mkwargs):\n\u001b[0;32m    117\u001b[0m     \u001b[38;5;28mself\u001b[39m \u001b[38;5;241m=\u001b[39m obj \u001b[38;5;129;01mor\u001b[39;00m args[\u001b[38;5;241m0\u001b[39m]\n\u001b[1;32m--> 118\u001b[0m     \u001b[38;5;28;01mreturn\u001b[39;00m \u001b[43msync\u001b[49m\u001b[43m(\u001b[49m\u001b[38;5;28;43mself\u001b[39;49m\u001b[38;5;241;43m.\u001b[39;49m\u001b[43mloop\u001b[49m\u001b[43m,\u001b[49m\u001b[43m \u001b[49m\u001b[43mfunc\u001b[49m\u001b[43m,\u001b[49m\u001b[43m \u001b[49m\u001b[38;5;241;43m*\u001b[39;49m\u001b[43margs\u001b[49m\u001b[43m,\u001b[49m\u001b[43m \u001b[49m\u001b[38;5;241;43m*\u001b[39;49m\u001b[38;5;241;43m*\u001b[39;49m\u001b[43mkwargs\u001b[49m\u001b[43m)\u001b[49m\n",
      "File \u001b[1;32mc:\\Users\\cihat\\AppData\\Local\\Programs\\Python\\Python311\\Lib\\site-packages\\fsspec\\asyn.py:91\u001b[0m, in \u001b[0;36msync\u001b[1;34m(loop, func, timeout, *args, **kwargs)\u001b[0m\n\u001b[0;32m     88\u001b[0m asyncio\u001b[38;5;241m.\u001b[39mrun_coroutine_threadsafe(_runner(event, coro, result, timeout), loop)\n\u001b[0;32m     89\u001b[0m \u001b[38;5;28;01mwhile\u001b[39;00m \u001b[38;5;28;01mTrue\u001b[39;00m:\n\u001b[0;32m     90\u001b[0m     \u001b[38;5;66;03m# this loops allows thread to get interrupted\u001b[39;00m\n\u001b[1;32m---> 91\u001b[0m     \u001b[38;5;28;01mif\u001b[39;00m \u001b[43mevent\u001b[49m\u001b[38;5;241;43m.\u001b[39;49m\u001b[43mwait\u001b[49m\u001b[43m(\u001b[49m\u001b[38;5;241;43m1\u001b[39;49m\u001b[43m)\u001b[49m:\n\u001b[0;32m     92\u001b[0m         \u001b[38;5;28;01mbreak\u001b[39;00m\n\u001b[0;32m     93\u001b[0m     \u001b[38;5;28;01mif\u001b[39;00m timeout \u001b[38;5;129;01mis\u001b[39;00m \u001b[38;5;129;01mnot\u001b[39;00m \u001b[38;5;28;01mNone\u001b[39;00m:\n",
      "File \u001b[1;32mc:\\Users\\cihat\\AppData\\Local\\Programs\\Python\\Python311\\Lib\\threading.py:622\u001b[0m, in \u001b[0;36mEvent.wait\u001b[1;34m(self, timeout)\u001b[0m\n\u001b[0;32m    620\u001b[0m signaled \u001b[38;5;241m=\u001b[39m \u001b[38;5;28mself\u001b[39m\u001b[38;5;241m.\u001b[39m_flag\n\u001b[0;32m    621\u001b[0m \u001b[38;5;28;01mif\u001b[39;00m \u001b[38;5;129;01mnot\u001b[39;00m signaled:\n\u001b[1;32m--> 622\u001b[0m     signaled \u001b[38;5;241m=\u001b[39m \u001b[38;5;28;43mself\u001b[39;49m\u001b[38;5;241;43m.\u001b[39;49m\u001b[43m_cond\u001b[49m\u001b[38;5;241;43m.\u001b[39;49m\u001b[43mwait\u001b[49m\u001b[43m(\u001b[49m\u001b[43mtimeout\u001b[49m\u001b[43m)\u001b[49m\n\u001b[0;32m    623\u001b[0m \u001b[38;5;28;01mreturn\u001b[39;00m signaled\n",
      "File \u001b[1;32mc:\\Users\\cihat\\AppData\\Local\\Programs\\Python\\Python311\\Lib\\threading.py:324\u001b[0m, in \u001b[0;36mCondition.wait\u001b[1;34m(self, timeout)\u001b[0m\n\u001b[0;32m    322\u001b[0m \u001b[38;5;28;01melse\u001b[39;00m:\n\u001b[0;32m    323\u001b[0m     \u001b[38;5;28;01mif\u001b[39;00m timeout \u001b[38;5;241m>\u001b[39m \u001b[38;5;241m0\u001b[39m:\n\u001b[1;32m--> 324\u001b[0m         gotit \u001b[38;5;241m=\u001b[39m \u001b[43mwaiter\u001b[49m\u001b[38;5;241;43m.\u001b[39;49m\u001b[43macquire\u001b[49m\u001b[43m(\u001b[49m\u001b[38;5;28;43;01mTrue\u001b[39;49;00m\u001b[43m,\u001b[49m\u001b[43m \u001b[49m\u001b[43mtimeout\u001b[49m\u001b[43m)\u001b[49m\n\u001b[0;32m    325\u001b[0m     \u001b[38;5;28;01melse\u001b[39;00m:\n\u001b[0;32m    326\u001b[0m         gotit \u001b[38;5;241m=\u001b[39m waiter\u001b[38;5;241m.\u001b[39macquire(\u001b[38;5;28;01mFalse\u001b[39;00m)\n",
      "\u001b[1;31mKeyboardInterrupt\u001b[0m: "
     ]
    }
   ],
   "source": [
    "for c in consumer:\n",
    "    index = c.value.get('Index')\n",
    "\n",
    "    s3_path = f\"{bucket_name}/kafka_data_{index}.json\"\n",
    "\n",
    "    with s3.open(s3_path, 'w') as f:\n",
    "        json.dump(c.value, f)\n",
    "\n",
    "    print(f\"Data saved to {s3_path}\")"
   ]
  },
  {
   "cell_type": "code",
   "execution_count": null,
   "metadata": {},
   "outputs": [],
   "source": []
  }
 ],
 "metadata": {
  "kernelspec": {
   "display_name": "Python 3",
   "language": "python",
   "name": "python3"
  },
  "language_info": {
   "codemirror_mode": {
    "name": "ipython",
    "version": 3
   },
   "file_extension": ".py",
   "mimetype": "text/x-python",
   "name": "python",
   "nbconvert_exporter": "python",
   "pygments_lexer": "ipython3",
   "version": "3.11.5"
  }
 },
 "nbformat": 4,
 "nbformat_minor": 2
}
